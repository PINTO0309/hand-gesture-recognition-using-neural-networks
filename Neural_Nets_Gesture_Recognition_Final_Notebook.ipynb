{
 "cells": [
  {
   "cell_type": "markdown",
   "metadata": {},
   "source": [
    "# Gesture Recognition\n",
    "In this group project, you are going to build a 3D Conv model that will be able to predict the 5 gestures correctly. Please import the following libraries to get started."
   ]
  },
  {
   "cell_type": "code",
   "execution_count": 1,
   "metadata": {},
   "outputs": [],
   "source": [
    "import numpy as np\n",
    "import os\n",
    "import datetime\n",
    "import os\n",
    "import cv2"
   ]
  },
  {
   "cell_type": "markdown",
   "metadata": {},
   "source": [
    "We set the random seed so that the results don't vary drastically."
   ]
  },
  {
   "cell_type": "code",
   "execution_count": 2,
   "metadata": {},
   "outputs": [
    {
     "name": "stderr",
     "output_type": "stream",
     "text": [
      "2024-03-13 15:33:47.103153: E tensorflow/compiler/xla/stream_executor/cuda/cuda_dnn.cc:9342] Unable to register cuDNN factory: Attempting to register factory for plugin cuDNN when one has already been registered\n",
      "2024-03-13 15:33:47.103176: E tensorflow/compiler/xla/stream_executor/cuda/cuda_fft.cc:609] Unable to register cuFFT factory: Attempting to register factory for plugin cuFFT when one has already been registered\n",
      "2024-03-13 15:33:47.103194: E tensorflow/compiler/xla/stream_executor/cuda/cuda_blas.cc:1518] Unable to register cuBLAS factory: Attempting to register factory for plugin cuBLAS when one has already been registered\n",
      "2024-03-13 15:33:47.107796: I tensorflow/core/platform/cpu_feature_guard.cc:182] This TensorFlow binary is optimized to use available CPU instructions in performance-critical operations.\n",
      "To enable the following instructions: AVX2 FMA, in other operations, rebuild TensorFlow with the appropriate compiler flags.\n",
      "2024-03-13 15:33:48.770825: I tensorflow/compiler/xla/stream_executor/cuda/cuda_gpu_executor.cc:894] successful NUMA node read from SysFS had negative value (-1), but there must be at least one NUMA node, so returning NUMA node zero. See more at https://github.com/torvalds/linux/blob/v6.0/Documentation/ABI/testing/sysfs-bus-pci#L344-L355\n",
      "2024-03-13 15:33:48.774214: I tensorflow/compiler/xla/stream_executor/cuda/cuda_gpu_executor.cc:894] successful NUMA node read from SysFS had negative value (-1), but there must be at least one NUMA node, so returning NUMA node zero. See more at https://github.com/torvalds/linux/blob/v6.0/Documentation/ABI/testing/sysfs-bus-pci#L344-L355\n",
      "2024-03-13 15:33:48.774301: I tensorflow/compiler/xla/stream_executor/cuda/cuda_gpu_executor.cc:894] successful NUMA node read from SysFS had negative value (-1), but there must be at least one NUMA node, so returning NUMA node zero. See more at https://github.com/torvalds/linux/blob/v6.0/Documentation/ABI/testing/sysfs-bus-pci#L344-L355\n"
     ]
    },
    {
     "data": {
      "text/plain": [
       "[PhysicalDevice(name='/physical_device:GPU:0', device_type='GPU')]"
      ]
     },
     "execution_count": 2,
     "metadata": {},
     "output_type": "execute_result"
    }
   ],
   "source": [
    "np.random.seed(30)\n",
    "import random as rn\n",
    "rn.seed(30)\n",
    "from keras import backend as K\n",
    "import tensorflow as tf\n",
    "tf.random.set_seed(30)\n",
    "tf.config.list_physical_devices('GPU')"
   ]
  },
  {
   "cell_type": "markdown",
   "metadata": {},
   "source": [
    "In this block, you read the folder names for training and validation. We will set the initial `batch_size` here. Note that we will experimentally set the batch size in such a way that you are able to use the GPU in full capacity. Keep increasing the batch size until the machine throws an error."
   ]
  },
  {
   "cell_type": "code",
   "execution_count": 3,
   "metadata": {},
   "outputs": [],
   "source": [
    "train_doc = np.random.permutation(open('./data/train.csv').readlines())\n",
    "val_doc = np.random.permutation(open('./data/val.csv').readlines())\n",
    "batch_size = 10 #experiment with the batch size"
   ]
  },
  {
   "cell_type": "markdown",
   "metadata": {},
   "source": [
    "***Note*** in our implementaiton true **batch_size** is always 2 fold as we agument our data. if if batch size is 10, true batch size at the run time is 20, as twice the number of data set loaded are added to the batch\n"
   ]
  },
  {
   "cell_type": "markdown",
   "metadata": {},
   "source": [
    "## Generator\n",
    "This is one of the most important part of the code. The overall structure of the generator is broken down into modules. In the generator, we are going to preprocess the images as we have images of 2 different dimensions as well as create a batch of video frames. "
   ]
  },
  {
   "cell_type": "code",
   "execution_count": 4,
   "metadata": {},
   "outputs": [],
   "source": [
    "# Parameters initialization\n",
    "nb_rows = 120   # X dimension of the image\n",
    "nb_cols = 120   # Y dimesnion of the image\n",
    "#total_frames = 30\n",
    "nb_frames = 30  # lenght of the video frames\n",
    "nb_channel = 3 # numbe rof channels in images 3 for color(RGB) and 1 for Gray"
   ]
  },
  {
   "cell_type": "code",
   "execution_count": 5,
   "metadata": {},
   "outputs": [],
   "source": [
    "# Helper function to generate a random affine transform on the iamge\n",
    "def get_random_affine():\n",
    "    dx, dy = np.random.randint(-1.7, 1.8, 2)\n",
    "    M = np.float32([[1, 0, dx], [0, 1, dy]])\n",
    "    return M"
   ]
  },
  {
   "cell_type": "code",
   "execution_count": 6,
   "metadata": {},
   "outputs": [],
   "source": [
    "# Helper function to normalise the data\n",
    "def normalize_data(data):\n",
    "    return data/127.5-1"
   ]
  },
  {
   "cell_type": "code",
   "execution_count": 7,
   "metadata": {},
   "outputs": [],
   "source": [
    "# Helper function to initialize all the batch image data and labels\n",
    "def init_batch_data(batch_size):\n",
    "    batch_data = np.zeros((batch_size, nb_frames, nb_rows, nb_cols, nb_channel))\n",
    "    batch_labels = np.zeros((batch_size, 5)) # batch_labels is the one hot representation of the output\n",
    "    return batch_data, batch_labels"
   ]
  },
  {
   "cell_type": "code",
   "execution_count": 8,
   "metadata": {},
   "outputs": [],
   "source": [
    "def load_batch_images(source_path, folder_list, batch_num, batch_size, t, validation):\n",
    "\n",
    "    batch_data,batch_labels = init_batch_data(batch_size)\n",
    "\n",
    "    # We will also build an augumented batch data with affine transformation\n",
    "    batch_data_aug,batch_labels_aug = init_batch_data(batch_size)\n",
    "\n",
    "    # We will also build an augmented batch data with horizontal flip\n",
    "    batch_data_flip,batch_labels_flip = init_batch_data(batch_size)\n",
    "\n",
    "    #create a list of image numbers you want to use for a particular video using full frames\n",
    "    img_idx = [x for x in range(0, nb_frames)]\n",
    "\n",
    "    for folder in range(batch_size): # iterate over the batch_size\n",
    "        # read all the images in the folder\n",
    "        imgs = sorted(os.listdir(source_path+'/'+ t[folder + (batch_num*batch_size)].split(';')[0]))\n",
    "        # Generate a random affine to be used in image transformation for buidling agumented data set\n",
    "        M = get_random_affine()\n",
    "\n",
    "        #  Iterate over the frames/images of a folder to read them in\n",
    "        for idx, item in enumerate(img_idx):\n",
    "            image = cv2.imread(source_path+'/'+ t[folder + (batch_num*batch_size)].strip().split(';')[0]+'/'+imgs[item], cv2.IMREAD_COLOR)\n",
    "            image = cv2.cvtColor(image, cv2.COLOR_BGR2RGB)\n",
    "\n",
    "            # Cropping non symmetric frames\n",
    "            if image.shape[0] != image.shape[1]:\n",
    "                image=image[0:120,20:140]\n",
    "\n",
    "            #crop the images and resize them. Note that the images are of 2 different shape\n",
    "            #and the conv3D will throw error if the inputs in a batch have different shapes\n",
    "            resized = cv2.resize(image, (nb_rows,nb_cols), interpolation = cv2.INTER_AREA)\n",
    "            #Normal data\n",
    "            batch_data[folder,idx] = (resized)\n",
    "\n",
    "            #Data with affine transformation\n",
    "            batch_data_aug[folder,idx] = (cv2.warpAffine(resized, M, (resized.shape[0], resized.shape[1])))\n",
    "\n",
    "            # Data with horizontal flip\n",
    "            batch_data_flip[folder,idx]= np.flip(resized,1)\n",
    "\n",
    "        batch_labels[folder, int(t[folder + (batch_num*batch_size)].strip().split(';')[2])] = 1\n",
    "        batch_labels_aug[folder, int(t[folder + (batch_num*batch_size)].strip().split(';')[2])] = 1\n",
    "\n",
    "        # Labeling data with horizobtal flip, right swipe becomes left swipe and viceversa\n",
    "        if int(t[folder + (batch_num*batch_size)].strip().split(';')[2])==0:\n",
    "                    batch_labels_flip[folder, 1] = 1\n",
    "        elif int(t[folder + (batch_num*batch_size)].strip().split(';')[2])==1:\n",
    "                    batch_labels_flip[folder, 0] = 1\n",
    "\n",
    "        else:\n",
    "                    batch_labels_flip[folder, int(t[folder + (batch_num*batch_size)].strip().split(';')[2])] = 1\n",
    "\n",
    "\n",
    "    batch_data_final = np.append(batch_data, batch_data_aug, axis = 0)\n",
    "    batch_data_final = np.append(batch_data_final, batch_data_flip, axis = 0)\n",
    "\n",
    "    batch_labels_final = np.append(batch_labels, batch_labels_aug, axis = 0)\n",
    "    batch_labels_final = np.append(batch_labels_final, batch_labels_flip, axis = 0)\n",
    "\n",
    "    if validation:\n",
    "        batch_data_final=batch_data\n",
    "        batch_labels_final= batch_labels\n",
    "\n",
    "    return batch_data_final,batch_labels_final"
   ]
  },
  {
   "cell_type": "code",
   "execution_count": 9,
   "metadata": {},
   "outputs": [],
   "source": [
    "def generator(source_path, folder_list, batch_size, validation=False):\n",
    "    print( 'Source path = ', source_path, '; batch size =', batch_size)\n",
    "    while True:\n",
    "        t = np.random.permutation(folder_list)\n",
    "        num_batches = len(folder_list)//batch_size # calculate the number of batches\n",
    "        for batch in range(num_batches): # we iterate over the number of batches\n",
    "            # you yield the batch_data and the batch_labels, remember what does yield do\n",
    "            yield load_batch_images(source_path, folder_list, batch, batch_size, t, validation)\n",
    "\n",
    "        # Code for the remaining data points which are left after full batches\n",
    "        if (len(folder_list) != batch_size*num_batches):\n",
    "            batch_size = len(folder_list) - (batch_size*num_batches)\n",
    "            yield load_batch_images(source_path, folder_list, batch, batch_size, t, validation)\n"
   ]
  },
  {
   "cell_type": "markdown",
   "metadata": {},
   "source": [
    "Note here that a video is represented above in the generator as (number of images, height, width, number of channels). Take this into consideration while creating the model architecture."
   ]
  },
  {
   "cell_type": "code",
   "execution_count": 10,
   "metadata": {},
   "outputs": [
    {
     "name": "stdout",
     "output_type": "stream",
     "text": [
      "# training sequences = 663\n",
      "# validation sequences = 100\n",
      "# epochs = 10\n"
     ]
    }
   ],
   "source": [
    "curr_dt_time = datetime.datetime.now()\n",
    "train_path = './data/train/train'\n",
    "val_path = './data/val/val'\n",
    "num_train_sequences = len(train_doc)\n",
    "print('# training sequences =', num_train_sequences)\n",
    "num_val_sequences = len(val_doc)\n",
    "print('# validation sequences =', num_val_sequences)\n",
    "num_epochs = 10 # choose the number of epochs\n",
    "print ('# epochs =', num_epochs)"
   ]
  },
  {
   "cell_type": "markdown",
   "metadata": {},
   "source": [
    "## Final Model"
   ]
  },
  {
   "cell_type": "code",
   "execution_count": 11,
   "metadata": {},
   "outputs": [
    {
     "name": "stderr",
     "output_type": "stream",
     "text": [
      "2024-03-13 15:34:10.589035: I tensorflow/compiler/xla/stream_executor/cuda/cuda_gpu_executor.cc:894] successful NUMA node read from SysFS had negative value (-1), but there must be at least one NUMA node, so returning NUMA node zero. See more at https://github.com/torvalds/linux/blob/v6.0/Documentation/ABI/testing/sysfs-bus-pci#L344-L355\n",
      "2024-03-13 15:34:10.589159: I tensorflow/compiler/xla/stream_executor/cuda/cuda_gpu_executor.cc:894] successful NUMA node read from SysFS had negative value (-1), but there must be at least one NUMA node, so returning NUMA node zero. See more at https://github.com/torvalds/linux/blob/v6.0/Documentation/ABI/testing/sysfs-bus-pci#L344-L355\n",
      "2024-03-13 15:34:10.589234: I tensorflow/compiler/xla/stream_executor/cuda/cuda_gpu_executor.cc:894] successful NUMA node read from SysFS had negative value (-1), but there must be at least one NUMA node, so returning NUMA node zero. See more at https://github.com/torvalds/linux/blob/v6.0/Documentation/ABI/testing/sysfs-bus-pci#L344-L355\n",
      "2024-03-13 15:34:10.631269: I tensorflow/compiler/xla/stream_executor/cuda/cuda_gpu_executor.cc:894] successful NUMA node read from SysFS had negative value (-1), but there must be at least one NUMA node, so returning NUMA node zero. See more at https://github.com/torvalds/linux/blob/v6.0/Documentation/ABI/testing/sysfs-bus-pci#L344-L355\n",
      "2024-03-13 15:34:10.631385: I tensorflow/compiler/xla/stream_executor/cuda/cuda_gpu_executor.cc:894] successful NUMA node read from SysFS had negative value (-1), but there must be at least one NUMA node, so returning NUMA node zero. See more at https://github.com/torvalds/linux/blob/v6.0/Documentation/ABI/testing/sysfs-bus-pci#L344-L355\n",
      "2024-03-13 15:34:10.631468: I tensorflow/compiler/xla/stream_executor/cuda/cuda_gpu_executor.cc:894] successful NUMA node read from SysFS had negative value (-1), but there must be at least one NUMA node, so returning NUMA node zero. See more at https://github.com/torvalds/linux/blob/v6.0/Documentation/ABI/testing/sysfs-bus-pci#L344-L355\n",
      "2024-03-13 15:34:10.631534: I tensorflow/core/common_runtime/gpu/gpu_device.cc:1886] Created device /job:localhost/replica:0/task:0/device:GPU:0 with 5222 MB memory:  -> device: 0, name: NVIDIA GeForce RTX 3070, pci bus id: 0000:01:00.0, compute capability: 8.6\n"
     ]
    }
   ],
   "source": [
    "from keras.models import Sequential, Model\n",
    "from keras.layers import Dense, GRU, Flatten, TimeDistributed, Flatten, BatchNormalization, Activation, Dropout\n",
    "from keras.layers import Conv3D, MaxPooling3D\n",
    "from keras.callbacks import ModelCheckpoint, ReduceLROnPlateau\n",
    "from keras.losses import categorical_crossentropy\n",
    "from keras.optimizers import Adam\n",
    "\n",
    "nb_filters = [8,16,32,64]\n",
    "nb_dense = [256, 128, 5]\n",
    "\n",
    "# Input\n",
    "input_shape = (nb_frames, nb_rows, nb_cols, nb_channel)\n",
    "\n",
    "# Define model\n",
    "model = Sequential()\n",
    "\n",
    "model.add(Conv3D(nb_filters[0], kernel_size=(3,3,3), input_shape=input_shape, padding='same'))\n",
    "model.add(BatchNormalization())\n",
    "model.add(Activation('relu'))\n",
    "\n",
    "model.add(MaxPooling3D(pool_size=(2,2,2)))\n",
    "\n",
    "model.add(Conv3D(nb_filters[1], kernel_size=(3,3,3), padding='same'))\n",
    "model.add(BatchNormalization())\n",
    "model.add(Activation('relu'))\n",
    "\n",
    "model.add(MaxPooling3D(pool_size=(2,2,2)))\n",
    "\n",
    "model.add(Conv3D(nb_filters[2], kernel_size=(1,3,3), padding='same'))\n",
    "model.add(BatchNormalization())\n",
    "model.add(Activation('relu'))\n",
    "\n",
    "model.add(MaxPooling3D(pool_size=(2,2,2)))\n",
    "\n",
    "model.add(Conv3D(nb_filters[3], kernel_size=(1,3,3), padding='same'))\n",
    "model.add(Activation('relu'))\n",
    "model.add(Dropout(0.25))\n",
    "\n",
    "model.add(MaxPooling3D(pool_size=(2,2,2)))\n",
    "\n",
    "#Flatten Layers\n",
    "model.add(Flatten())\n",
    "\n",
    "model.add(Dense(nb_dense[0], activation='relu'))\n",
    "model.add(Dropout(0.5))\n",
    "\n",
    "model.add(Dense(nb_dense[1], activation='relu'))\n",
    "model.add(Dropout(0.5))\n",
    "\n",
    "#softmax layer\n",
    "model.add(Dense(nb_dense[2], activation='softmax'))"
   ]
  },
  {
   "cell_type": "markdown",
   "metadata": {},
   "source": [
    "Now that you have written the model, the next step is to `compile` the model. When you print the `summary` of the model, you'll see the total number of parameters you have to train."
   ]
  },
  {
   "cell_type": "code",
   "execution_count": 12,
   "metadata": {
    "scrolled": false
   },
   "outputs": [
    {
     "name": "stdout",
     "output_type": "stream",
     "text": [
      "Model: \"sequential\"\n",
      "_________________________________________________________________\n",
      " Layer (type)                Output Shape              Param #   \n",
      "=================================================================\n",
      " conv3d (Conv3D)             (None, 30, 120, 120, 8)   656       \n",
      "                                                                 \n",
      " batch_normalization (Batch  (None, 30, 120, 120, 8)   32        \n",
      " Normalization)                                                  \n",
      "                                                                 \n",
      " activation (Activation)     (None, 30, 120, 120, 8)   0         \n",
      "                                                                 \n",
      " max_pooling3d (MaxPooling3  (None, 15, 60, 60, 8)     0         \n",
      " D)                                                              \n",
      "                                                                 \n",
      " conv3d_1 (Conv3D)           (None, 15, 60, 60, 16)    3472      \n",
      "                                                                 \n",
      " batch_normalization_1 (Bat  (None, 15, 60, 60, 16)    64        \n",
      " chNormalization)                                                \n",
      "                                                                 \n",
      " activation_1 (Activation)   (None, 15, 60, 60, 16)    0         \n",
      "                                                                 \n",
      " max_pooling3d_1 (MaxPoolin  (None, 7, 30, 30, 16)     0         \n",
      " g3D)                                                            \n",
      "                                                                 \n",
      " conv3d_2 (Conv3D)           (None, 7, 30, 30, 32)     4640      \n",
      "                                                                 \n",
      " batch_normalization_2 (Bat  (None, 7, 30, 30, 32)     128       \n",
      " chNormalization)                                                \n",
      "                                                                 \n",
      " activation_2 (Activation)   (None, 7, 30, 30, 32)     0         \n",
      "                                                                 \n",
      " max_pooling3d_2 (MaxPoolin  (None, 3, 15, 15, 32)     0         \n",
      " g3D)                                                            \n",
      "                                                                 \n",
      " conv3d_3 (Conv3D)           (None, 3, 15, 15, 64)     18496     \n",
      "                                                                 \n",
      " activation_3 (Activation)   (None, 3, 15, 15, 64)     0         \n",
      "                                                                 \n",
      " dropout (Dropout)           (None, 3, 15, 15, 64)     0         \n",
      "                                                                 \n",
      " max_pooling3d_3 (MaxPoolin  (None, 1, 7, 7, 64)       0         \n",
      " g3D)                                                            \n",
      "                                                                 \n",
      " flatten (Flatten)           (None, 3136)              0         \n",
      "                                                                 \n",
      " dense (Dense)               (None, 256)               803072    \n",
      "                                                                 \n",
      " dropout_1 (Dropout)         (None, 256)               0         \n",
      "                                                                 \n",
      " dense_1 (Dense)             (None, 128)               32896     \n",
      "                                                                 \n",
      " dropout_2 (Dropout)         (None, 128)               0         \n",
      "                                                                 \n",
      " dense_2 (Dense)             (None, 5)                 645       \n",
      "                                                                 \n",
      "=================================================================\n",
      "Total params: 864101 (3.30 MB)\n",
      "Trainable params: 863989 (3.30 MB)\n",
      "Non-trainable params: 112 (448.00 Byte)\n",
      "_________________________________________________________________\n"
     ]
    }
   ],
   "source": [
    "optimiser = Adam() #write your optimizer\n",
    "model.compile(optimizer=optimiser, loss='categorical_crossentropy', metrics=['categorical_accuracy'])\n",
    "model.summary()"
   ]
  },
  {
   "cell_type": "markdown",
   "metadata": {},
   "source": [
    "Let us create the `train_generator` and the `val_generator` which will be used in `.fit_generator`."
   ]
  },
  {
   "cell_type": "code",
   "execution_count": 13,
   "metadata": {},
   "outputs": [],
   "source": [
    "train_generator = generator(train_path, train_doc, batch_size)\n",
    "val_generator = generator(val_path, val_doc, batch_size, validation=True)"
   ]
  },
  {
   "cell_type": "markdown",
   "metadata": {},
   "source": [
    "The `steps_per_epoch` and `validation_steps` are used by `fit_generator` to decide the number of next() calls it need to make."
   ]
  },
  {
   "cell_type": "markdown",
   "metadata": {},
   "source": [
    "Let us now fit the model. This will start training the model and with the help of the checkpoints, you'll be able to save the model at the end of each epoch."
   ]
  },
  {
   "cell_type": "code",
   "execution_count": 18,
   "metadata": {},
   "outputs": [
    {
     "name": "stdout",
     "output_type": "stream",
     "text": [
      "filepath: model_2024-03-1315_34_08.066272_batch010_epoch0030/model-{epoch:05d}-{loss:.5f}-{categorical_accuracy:.5f}-{val_loss:.5f}-{val_categorical_accuracy:.5f}.h5\n",
      "Epoch 1/30\n",
      "67/67 [==============================] - ETA: 0s - loss: 0.6437 - categorical_accuracy: 0.7496\n",
      "Epoch 1: saving model to model_2024-03-1315_34_08.066272_batch010_epoch0030/model-00001-0.64371-0.74959-0.71322-0.72000.h5\n",
      "67/67 [==============================] - 17s 259ms/step - loss: 0.6437 - categorical_accuracy: 0.7496 - val_loss: 0.7132 - val_categorical_accuracy: 0.7200 - lr: 6.1035e-08\n",
      "Epoch 2/30\n",
      " 3/67 [>.............................] - ETA: 2s - loss: 0.6071 - categorical_accuracy: 0.7407"
     ]
    },
    {
     "name": "stderr",
     "output_type": "stream",
     "text": [
      "/home/b920405/.local/lib/python3.10/site-packages/keras/src/engine/training.py:3079: UserWarning: You are saving your model as an HDF5 file via `model.save()`. This file format is considered legacy. We recommend using instead the native Keras format, e.g. `model.save('my_model.keras')`.\n",
      "  saving_api.save_model(\n"
     ]
    },
    {
     "name": "stdout",
     "output_type": "stream",
     "text": [
      "67/67 [==============================] - ETA: 0s - loss: 0.5260 - categorical_accuracy: 0.8027\n",
      "Epoch 2: saving model to model_2024-03-1315_34_08.066272_batch010_epoch0030/model-00002-0.52600-0.80265-0.72583-0.71000.h5\n",
      "67/67 [==============================] - 16s 239ms/step - loss: 0.5260 - categorical_accuracy: 0.8027 - val_loss: 0.7258 - val_categorical_accuracy: 0.7100 - lr: 6.1035e-08\n",
      "Epoch 3/30\n",
      "67/67 [==============================] - ETA: 0s - loss: 0.5647 - categorical_accuracy: 0.7844\n",
      "Epoch 3: saving model to model_2024-03-1315_34_08.066272_batch010_epoch0030/model-00003-0.56467-0.78441-0.73451-0.71000.h5\n",
      "\n",
      "Epoch 3: ReduceLROnPlateau reducing learning rate to 3.051757957450718e-08.\n",
      "67/67 [==============================] - 15s 233ms/step - loss: 0.5647 - categorical_accuracy: 0.7844 - val_loss: 0.7345 - val_categorical_accuracy: 0.7100 - lr: 6.1035e-08\n",
      "Epoch 4/30\n",
      "67/67 [==============================] - ETA: 0s - loss: 0.5757 - categorical_accuracy: 0.7745\n",
      "Epoch 4: saving model to model_2024-03-1315_34_08.066272_batch010_epoch0030/model-00004-0.57570-0.77446-0.61531-0.79000.h5\n",
      "67/67 [==============================] - 15s 220ms/step - loss: 0.5757 - categorical_accuracy: 0.7745 - val_loss: 0.6153 - val_categorical_accuracy: 0.7900 - lr: 3.0518e-08\n",
      "Epoch 5/30\n",
      "67/67 [==============================] - ETA: 0s - loss: 0.6006 - categorical_accuracy: 0.7612\n",
      "Epoch 5: saving model to model_2024-03-1315_34_08.066272_batch010_epoch0030/model-00005-0.60057-0.76119-0.72996-0.71000.h5\n",
      "67/67 [==============================] - 15s 223ms/step - loss: 0.6006 - categorical_accuracy: 0.7612 - val_loss: 0.7300 - val_categorical_accuracy: 0.7100 - lr: 3.0518e-08\n",
      "Epoch 6/30\n",
      "67/67 [==============================] - ETA: 0s - loss: 0.5725 - categorical_accuracy: 0.7960\n",
      "Epoch 6: saving model to model_2024-03-1315_34_08.066272_batch010_epoch0030/model-00006-0.57251-0.79602-0.65804-0.75000.h5\n",
      "\n",
      "Epoch 6: ReduceLROnPlateau reducing learning rate to 1.525878978725359e-08.\n",
      "67/67 [==============================] - 12s 181ms/step - loss: 0.5725 - categorical_accuracy: 0.7960 - val_loss: 0.6580 - val_categorical_accuracy: 0.7500 - lr: 3.0518e-08\n",
      "Epoch 7/30\n",
      "67/67 [==============================] - ETA: 0s - loss: 0.5736 - categorical_accuracy: 0.7894\n",
      "Epoch 7: saving model to model_2024-03-1315_34_08.066272_batch010_epoch0030/model-00007-0.57357-0.78939-0.70324-0.73000.h5\n",
      "67/67 [==============================] - 11s 160ms/step - loss: 0.5736 - categorical_accuracy: 0.7894 - val_loss: 0.7032 - val_categorical_accuracy: 0.7300 - lr: 1.5259e-08\n",
      "Epoch 8/30\n",
      "67/67 [==============================] - ETA: 0s - loss: 0.6420 - categorical_accuracy: 0.7612\n",
      "Epoch 8: saving model to model_2024-03-1315_34_08.066272_batch010_epoch0030/model-00008-0.64205-0.76119-0.62362-0.71000.h5\n",
      "\n",
      "Epoch 8: ReduceLROnPlateau reducing learning rate to 7.629394893626795e-09.\n",
      "67/67 [==============================] - 11s 159ms/step - loss: 0.6420 - categorical_accuracy: 0.7612 - val_loss: 0.6236 - val_categorical_accuracy: 0.7100 - lr: 1.5259e-08\n",
      "Epoch 9/30\n",
      "67/67 [==============================] - ETA: 0s - loss: 0.5483 - categorical_accuracy: 0.7678\n",
      "Epoch 9: saving model to model_2024-03-1315_34_08.066272_batch010_epoch0030/model-00009-0.54829-0.76783-0.79794-0.72000.h5\n",
      "67/67 [==============================] - 11s 168ms/step - loss: 0.5483 - categorical_accuracy: 0.7678 - val_loss: 0.7979 - val_categorical_accuracy: 0.7200 - lr: 7.6294e-09\n",
      "Epoch 10/30\n",
      "67/67 [==============================] - ETA: 0s - loss: 0.6042 - categorical_accuracy: 0.7910\n",
      "Epoch 10: saving model to model_2024-03-1315_34_08.066272_batch010_epoch0030/model-00010-0.60421-0.79104-0.71420-0.74000.h5\n",
      "\n",
      "Epoch 10: ReduceLROnPlateau reducing learning rate to 3.814697446813398e-09.\n",
      "67/67 [==============================] - 10s 154ms/step - loss: 0.6042 - categorical_accuracy: 0.7910 - val_loss: 0.7142 - val_categorical_accuracy: 0.7400 - lr: 7.6294e-09\n",
      "Epoch 11/30\n",
      "67/67 [==============================] - ETA: 0s - loss: 0.5601 - categorical_accuracy: 0.7745\n",
      "Epoch 11: saving model to model_2024-03-1315_34_08.066272_batch010_epoch0030/model-00011-0.56014-0.77446-0.71224-0.72000.h5\n",
      "67/67 [==============================] - 11s 164ms/step - loss: 0.5601 - categorical_accuracy: 0.7745 - val_loss: 0.7122 - val_categorical_accuracy: 0.7200 - lr: 3.8147e-09\n",
      "Epoch 12/30\n",
      "67/67 [==============================] - ETA: 0s - loss: 0.5981 - categorical_accuracy: 0.7645\n",
      "Epoch 12: saving model to model_2024-03-1315_34_08.066272_batch010_epoch0030/model-00012-0.59814-0.76451-0.74254-0.68000.h5\n",
      "\n",
      "Epoch 12: ReduceLROnPlateau reducing learning rate to 1.907348723406699e-09.\n",
      "67/67 [==============================] - 11s 168ms/step - loss: 0.5981 - categorical_accuracy: 0.7645 - val_loss: 0.7425 - val_categorical_accuracy: 0.6800 - lr: 3.8147e-09\n",
      "Epoch 13/30\n",
      "67/67 [==============================] - ETA: 0s - loss: 0.5462 - categorical_accuracy: 0.7877\n",
      "Epoch 13: saving model to model_2024-03-1315_34_08.066272_batch010_epoch0030/model-00013-0.54621-0.78773-0.66886-0.72000.h5\n",
      "67/67 [==============================] - 10s 156ms/step - loss: 0.5462 - categorical_accuracy: 0.7877 - val_loss: 0.6689 - val_categorical_accuracy: 0.7200 - lr: 1.9073e-09\n",
      "Epoch 14/30\n",
      "67/67 [==============================] - ETA: 0s - loss: 0.5455 - categorical_accuracy: 0.7993\n",
      "Epoch 14: saving model to model_2024-03-1315_34_08.066272_batch010_epoch0030/model-00014-0.54546-0.79934-0.74341-0.71000.h5\n",
      "\n",
      "Epoch 14: ReduceLROnPlateau reducing learning rate to 9.536743617033494e-10.\n",
      "67/67 [==============================] - 11s 163ms/step - loss: 0.5455 - categorical_accuracy: 0.7993 - val_loss: 0.7434 - val_categorical_accuracy: 0.7100 - lr: 1.9073e-09\n",
      "Epoch 15/30\n",
      "67/67 [==============================] - ETA: 0s - loss: 0.6060 - categorical_accuracy: 0.7811\n",
      "Epoch 15: saving model to model_2024-03-1315_34_08.066272_batch010_epoch0030/model-00015-0.60603-0.78109-0.64946-0.74000.h5\n",
      "67/67 [==============================] - 11s 165ms/step - loss: 0.6060 - categorical_accuracy: 0.7811 - val_loss: 0.6495 - val_categorical_accuracy: 0.7400 - lr: 9.5367e-10\n",
      "Epoch 16/30\n",
      "67/67 [==============================] - ETA: 0s - loss: 0.5604 - categorical_accuracy: 0.7828\n",
      "Epoch 16: saving model to model_2024-03-1315_34_08.066272_batch010_epoch0030/model-00016-0.56043-0.78275-0.66234-0.73000.h5\n",
      "\n",
      "Epoch 16: ReduceLROnPlateau reducing learning rate to 4.768371808516747e-10.\n",
      "67/67 [==============================] - 11s 160ms/step - loss: 0.5604 - categorical_accuracy: 0.7828 - val_loss: 0.6623 - val_categorical_accuracy: 0.7300 - lr: 9.5367e-10\n",
      "Epoch 17/30\n",
      "67/67 [==============================] - ETA: 0s - loss: 0.6054 - categorical_accuracy: 0.7811\n",
      "Epoch 17: saving model to model_2024-03-1315_34_08.066272_batch010_epoch0030/model-00017-0.60545-0.78109-0.83270-0.69000.h5\n",
      "67/67 [==============================] - 11s 160ms/step - loss: 0.6054 - categorical_accuracy: 0.7811 - val_loss: 0.8327 - val_categorical_accuracy: 0.6900 - lr: 4.7684e-10\n",
      "Epoch 18/30\n",
      "67/67 [==============================] - ETA: 0s - loss: 0.5416 - categorical_accuracy: 0.8093\n",
      "Epoch 18: saving model to model_2024-03-1315_34_08.066272_batch010_epoch0030/model-00018-0.54159-0.80929-0.68815-0.74000.h5\n",
      "\n",
      "Epoch 18: ReduceLROnPlateau reducing learning rate to 2.3841859042583735e-10.\n",
      "67/67 [==============================] - 10s 155ms/step - loss: 0.5416 - categorical_accuracy: 0.8093 - val_loss: 0.6881 - val_categorical_accuracy: 0.7400 - lr: 4.7684e-10\n",
      "Epoch 19/30\n",
      "67/67 [==============================] - ETA: 0s - loss: 0.5498 - categorical_accuracy: 0.8060\n",
      "Epoch 19: saving model to model_2024-03-1315_34_08.066272_batch010_epoch0030/model-00019-0.54982-0.80597-0.66055-0.72000.h5\n",
      "67/67 [==============================] - 11s 168ms/step - loss: 0.5498 - categorical_accuracy: 0.8060 - val_loss: 0.6605 - val_categorical_accuracy: 0.7200 - lr: 2.3842e-10\n",
      "Epoch 20/30\n",
      "67/67 [==============================] - ETA: 0s - loss: 0.5214 - categorical_accuracy: 0.8292\n",
      "Epoch 20: saving model to model_2024-03-1315_34_08.066272_batch010_epoch0030/model-00020-0.52138-0.82919-0.70483-0.75000.h5\n",
      "\n",
      "Epoch 20: ReduceLROnPlateau reducing learning rate to 1.1920929521291868e-10.\n",
      "67/67 [==============================] - 10s 158ms/step - loss: 0.5214 - categorical_accuracy: 0.8292 - val_loss: 0.7048 - val_categorical_accuracy: 0.7500 - lr: 2.3842e-10\n",
      "Epoch 21/30\n",
      "67/67 [==============================] - ETA: 0s - loss: 0.6548 - categorical_accuracy: 0.7529\n",
      "Epoch 21: saving model to model_2024-03-1315_34_08.066272_batch010_epoch0030/model-00021-0.65478-0.75290-0.71204-0.71000.h5\n",
      "67/67 [==============================] - 10s 157ms/step - loss: 0.6548 - categorical_accuracy: 0.7529 - val_loss: 0.7120 - val_categorical_accuracy: 0.7100 - lr: 1.1921e-10\n",
      "Epoch 22/30\n",
      "67/67 [==============================] - ETA: 0s - loss: 0.5324 - categorical_accuracy: 0.8060\n",
      "Epoch 22: saving model to model_2024-03-1315_34_08.066272_batch010_epoch0030/model-00022-0.53240-0.80597-0.67380-0.74000.h5\n",
      "\n",
      "Epoch 22: ReduceLROnPlateau reducing learning rate to 5.960464760645934e-11.\n",
      "67/67 [==============================] - 11s 165ms/step - loss: 0.5324 - categorical_accuracy: 0.8060 - val_loss: 0.6738 - val_categorical_accuracy: 0.7400 - lr: 1.1921e-10\n",
      "Epoch 23/30\n",
      "67/67 [==============================] - ETA: 0s - loss: 0.5932 - categorical_accuracy: 0.7844\n",
      "Epoch 23: saving model to model_2024-03-1315_34_08.066272_batch010_epoch0030/model-00023-0.59324-0.78441-0.76495-0.70000.h5\n",
      "67/67 [==============================] - 11s 159ms/step - loss: 0.5932 - categorical_accuracy: 0.7844 - val_loss: 0.7649 - val_categorical_accuracy: 0.7000 - lr: 5.9605e-11\n",
      "Epoch 24/30\n",
      "67/67 [==============================] - ETA: 0s - loss: 0.5837 - categorical_accuracy: 0.7728\n",
      "Epoch 24: saving model to model_2024-03-1315_34_08.066272_batch010_epoch0030/model-00024-0.58365-0.77280-0.62583-0.76000.h5\n",
      "\n",
      "Epoch 24: ReduceLROnPlateau reducing learning rate to 2.980232380322967e-11.\n",
      "67/67 [==============================] - 11s 170ms/step - loss: 0.5837 - categorical_accuracy: 0.7728 - val_loss: 0.6258 - val_categorical_accuracy: 0.7600 - lr: 5.9605e-11\n",
      "Epoch 25/30\n",
      "67/67 [==============================] - ETA: 0s - loss: 0.5527 - categorical_accuracy: 0.7960\n",
      "Epoch 25: saving model to model_2024-03-1315_34_08.066272_batch010_epoch0030/model-00025-0.55269-0.79602-0.76568-0.71000.h5\n",
      "67/67 [==============================] - 11s 162ms/step - loss: 0.5527 - categorical_accuracy: 0.7960 - val_loss: 0.7657 - val_categorical_accuracy: 0.7100 - lr: 2.9802e-11\n",
      "Epoch 26/30\n",
      "67/67 [==============================] - ETA: 0s - loss: 0.5522 - categorical_accuracy: 0.7977\n",
      "Epoch 26: saving model to model_2024-03-1315_34_08.066272_batch010_epoch0030/model-00026-0.55222-0.79768-0.74614-0.69000.h5\n",
      "\n",
      "Epoch 26: ReduceLROnPlateau reducing learning rate to 1.4901161901614834e-11.\n",
      "67/67 [==============================] - 10s 148ms/step - loss: 0.5522 - categorical_accuracy: 0.7977 - val_loss: 0.7461 - val_categorical_accuracy: 0.6900 - lr: 2.9802e-11\n",
      "Epoch 27/30\n",
      "67/67 [==============================] - ETA: 0s - loss: 0.5240 - categorical_accuracy: 0.8109\n",
      "Epoch 27: saving model to model_2024-03-1315_34_08.066272_batch010_epoch0030/model-00027-0.52401-0.81095-0.87088-0.68000.h5\n",
      "67/67 [==============================] - 11s 161ms/step - loss: 0.5240 - categorical_accuracy: 0.8109 - val_loss: 0.8709 - val_categorical_accuracy: 0.6800 - lr: 1.4901e-11\n",
      "Epoch 28/30\n",
      "67/67 [==============================] - ETA: 0s - loss: 0.5895 - categorical_accuracy: 0.7761\n",
      "Epoch 28: saving model to model_2024-03-1315_34_08.066272_batch010_epoch0030/model-00028-0.58954-0.77612-0.66919-0.73000.h5\n",
      "\n",
      "Epoch 28: ReduceLROnPlateau reducing learning rate to 7.450580950807417e-12.\n",
      "67/67 [==============================] - 11s 172ms/step - loss: 0.5895 - categorical_accuracy: 0.7761 - val_loss: 0.6692 - val_categorical_accuracy: 0.7300 - lr: 1.4901e-11\n",
      "Epoch 29/30\n",
      "67/67 [==============================] - ETA: 0s - loss: 0.5782 - categorical_accuracy: 0.7910\n",
      "Epoch 29: saving model to model_2024-03-1315_34_08.066272_batch010_epoch0030/model-00029-0.57820-0.79104-0.73542-0.72000.h5\n",
      "67/67 [==============================] - 11s 164ms/step - loss: 0.5782 - categorical_accuracy: 0.7910 - val_loss: 0.7354 - val_categorical_accuracy: 0.7200 - lr: 7.4506e-12\n",
      "Epoch 30/30\n",
      "67/67 [==============================] - ETA: 0s - loss: 0.5329 - categorical_accuracy: 0.8076\n",
      "Epoch 30: saving model to model_2024-03-1315_34_08.066272_batch010_epoch0030/model-00030-0.53289-0.80763-0.69216-0.73000.h5\n",
      "\n",
      "Epoch 30: ReduceLROnPlateau reducing learning rate to 3.725290475403709e-12.\n",
      "67/67 [==============================] - 11s 164ms/step - loss: 0.5329 - categorical_accuracy: 0.8076 - val_loss: 0.6922 - val_categorical_accuracy: 0.7300 - lr: 7.4506e-12\n"
     ]
    },
    {
     "data": {
      "text/plain": [
       "<keras.src.callbacks.History at 0x7fde8c689480>"
      ]
     },
     "execution_count": 18,
     "metadata": {},
     "output_type": "execute_result"
    }
   ],
   "source": [
    "batch_size = 10\n",
    "num_epochs = 30\n",
    "\n",
    "model_name = f\"model_{str(curr_dt_time).replace(' ','').replace(':','_')}_batch{batch_size:03d}_epoch{num_epochs:04d}/\"\n",
    "\n",
    "if not os.path.exists(model_name):\n",
    "    os.mkdir(model_name)\n",
    "\n",
    "filepath = model_name + 'model-{epoch:03d}-{loss:.5f}-{categorical_accuracy:.5f}-{val_loss:.5f}-{val_categorical_accuracy:.5f}.h5'\n",
    "print(f'filepath: {filepath}')\n",
    "checkpoint = ModelCheckpoint(filepath, monitor='val_loss', verbose=1, save_best_only=False, save_weights_only=False, mode='auto')\n",
    "\n",
    "# write the Reducelronplateau code here\n",
    "LR = ReduceLROnPlateau(monitor='val_loss', factor=0.5, patience=2, cooldown=1, verbose=1)\n",
    "callbacks_list = [checkpoint, LR]\n",
    "\n",
    "if (num_train_sequences%batch_size) == 0:\n",
    "    steps_per_epoch = int(num_train_sequences/batch_size)\n",
    "else:\n",
    "    steps_per_epoch = (num_train_sequences//batch_size) + 1\n",
    "\n",
    "if (num_val_sequences%batch_size) == 0:\n",
    "    validation_steps = int(num_val_sequences/batch_size)\n",
    "else:\n",
    "    validation_steps = (num_val_sequences//batch_size) + 1\n",
    "\n",
    "model.fit(\n",
    "    train_generator,\n",
    "    steps_per_epoch=steps_per_epoch,\n",
    "    epochs=num_epochs,\n",
    "    verbose=1,\n",
    "    callbacks=callbacks_list,\n",
    "    validation_data=val_generator,\n",
    "    validation_steps=validation_steps,\n",
    "    class_weight=None,\n",
    "    workers=1,\n",
    "    initial_epoch=0\n",
    ")"
   ]
  },
  {
   "cell_type": "code",
   "execution_count": null,
   "metadata": {},
   "outputs": [],
   "source": []
  }
 ],
 "metadata": {
  "kernelspec": {
   "display_name": "Python 3",
   "language": "python",
   "name": "python3"
  },
  "language_info": {
   "codemirror_mode": {
    "name": "ipython",
    "version": 3
   },
   "file_extension": ".py",
   "mimetype": "text/x-python",
   "name": "python",
   "nbconvert_exporter": "python",
   "pygments_lexer": "ipython3",
   "version": "3.10.12"
  }
 },
 "nbformat": 4,
 "nbformat_minor": 2
}
